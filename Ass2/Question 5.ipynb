{
 "cells": [
  {
   "cell_type": "code",
   "execution_count": 1,
   "id": "b0367b83",
   "metadata": {},
   "outputs": [],
   "source": [
    "import numpy as np\n",
    "import math"
   ]
  },
  {
   "cell_type": "code",
   "execution_count": 2,
   "id": "b6f9d360",
   "metadata": {},
   "outputs": [],
   "source": [
    "states= np.array(range(25))\n",
    "v_pi=np.zeros(25)\n",
    "v=np.zeros(25)\n",
    "gamma=0.9"
   ]
  },
  {
   "cell_type": "code",
   "execution_count": 3,
   "id": "844a9ddf",
   "metadata": {},
   "outputs": [],
   "source": [
    "actions= ['left', 'up', 'right', 'down']"
   ]
  },
  {
   "cell_type": "code",
   "execution_count": 4,
   "id": "742482f6",
   "metadata": {
    "scrolled": true
   },
   "outputs": [
    {
     "name": "stdout",
     "output_type": "stream",
     "text": [
      "done\n"
     ]
    }
   ],
   "source": [
    "iterations=0\n",
    "while True:\n",
    "    \n",
    "    for s in range(25):\n",
    "        temp=0\n",
    "        \n",
    "        #Pick an action in current states\n",
    "        for a in range(4):\n",
    "            \n",
    "            act= actions[a]\n",
    "            R=-2 #Initializing reward to some value\n",
    "            \n",
    "            #Figure out the next state s' and reward R, when you take action 'a' in state 's'\n",
    "            \n",
    "            \n",
    "            #Special cases\n",
    "            if(s==1):\n",
    "                R=10\n",
    "                s_dash=21\n",
    "            \n",
    "            elif(s==3):\n",
    "                R=5\n",
    "                s_dash= 13\n",
    "                \n",
    "            \n",
    "            #If special cases not taken then look for Border cases. If we hit the boundary, we get -1 reward, but we state in present state.\n",
    "            if(R==-2):\n",
    "                if(act=='left'):\n",
    "                    if(s%5==0):\n",
    "                        s_dash=s\n",
    "                        R=-1\n",
    "\n",
    "                elif(act=='up'):\n",
    "                    if(s<5):\n",
    "                        s_dash=s\n",
    "                        R=-1\n",
    "\n",
    "                elif(act=='right'):\n",
    "                    if(s%5==4):\n",
    "                        s_dash=s\n",
    "                        R=-1\n",
    "\n",
    "                elif(act=='down'):\n",
    "                    if(s>19):\n",
    "                        s_dash=s\n",
    "                        R=-1\n",
    "                    \n",
    "            \n",
    "            #If we haven't entered any special or border bouncing case then General Transitioning, with reward 0.\n",
    "            if(R==-2):\n",
    "                \n",
    "                R=0\n",
    "                \n",
    "                if(act=='up'):\n",
    "                    s_dash=s-5\n",
    "                \n",
    "                elif(act=='right'):\n",
    "                    s_dash= s+1\n",
    "                \n",
    "                elif(act=='down'):\n",
    "                    s_dash=s+5\n",
    "                    \n",
    "                elif(act=='left'):\n",
    "                    s_dash=s-1\n",
    "                    \n",
    "            #Calculate v_pi(s) for each action 'a'\n",
    "            temp+= 0.25*(1)*(R+ (gamma*v_pi[s_dash]))\n",
    "        \n",
    "        \n",
    "        v_pi[s]= temp\n",
    "    \n",
    "    \n",
    "    #Compare v_pi with v, after each iteration for all states 's'. \n",
    "    #We don't need v_pi-v for all 's'. This is a small set, we can look for equality and total convergence.\n",
    "    count=0\n",
    "    for x in range(25):\n",
    "        if(abs(v_pi[x]- v[x])==0):\n",
    "            count+=1\n",
    "    if(count==25):\n",
    "        print('done')\n",
    "        break\n",
    "        \n",
    "    else:\n",
    "        v= v_pi.copy()\n",
    "\n",
    "        \n",
    "    "
   ]
  },
  {
   "cell_type": "code",
   "execution_count": 5,
   "id": "cc3546f6",
   "metadata": {},
   "outputs": [
    {
     "data": {
      "text/plain": [
       "array([ 3.30899634,  8.78929186,  4.42761918,  5.32236759,  1.49217876,\n",
       "        1.52158807,  2.99231786,  2.25013995,  1.9075717 ,  0.54740271,\n",
       "        0.05082249,  0.73817059,  0.67311326,  0.35818621, -0.40314114,\n",
       "       -0.9735923 , -0.43549543, -0.35488227, -0.58560509, -1.18307508,\n",
       "       -1.85770055, -1.34523126, -1.22926726, -1.42291815, -1.97517905])"
      ]
     },
     "execution_count": 5,
     "metadata": {},
     "output_type": "execute_result"
    }
   ],
   "source": [
    "v_pi"
   ]
  }
 ],
 "metadata": {
  "kernelspec": {
   "display_name": "Python 3",
   "language": "python",
   "name": "python3"
  },
  "language_info": {
   "codemirror_mode": {
    "name": "ipython",
    "version": 3
   },
   "file_extension": ".py",
   "mimetype": "text/x-python",
   "name": "python",
   "nbconvert_exporter": "python",
   "pygments_lexer": "ipython3",
   "version": "3.9.5"
  }
 },
 "nbformat": 4,
 "nbformat_minor": 5
}
