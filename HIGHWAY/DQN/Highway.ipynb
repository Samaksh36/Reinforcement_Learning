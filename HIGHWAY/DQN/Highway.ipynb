{
 "cells": [
  {
   "cell_type": "code",
   "execution_count": 1,
   "id": "fc6a2473",
   "metadata": {},
   "outputs": [],
   "source": [
    "import gym\n",
    "import numpy as np \n",
    "import matplotlib.pyplot as plt\n",
    "import warnings\n",
    "import highway_env\n",
    "warnings.filterwarnings(\"ignore\")"
   ]
  },
  {
   "cell_type": "code",
   "execution_count": 2,
   "id": "f68a96d1",
   "metadata": {},
   "outputs": [],
   "source": [
    "import tensorflow as tf\n",
    "from tensorflow.keras.models import Sequential\n",
    "from tensorflow.keras.layers import Dense, Flatten\n",
    "from tensorflow.keras.optimizers import Adam"
   ]
  },
  {
   "cell_type": "code",
   "execution_count": 3,
   "id": "b41af8ee",
   "metadata": {},
   "outputs": [],
   "source": [
    "#Create the Model\n",
    "def create_model():\n",
    "    model= tf.keras.models.Sequential()\n",
    "\n",
    "    model.add(tf.keras.layers.Flatten(input_shape=(1,5,5)))\n",
    "    model.add(tf.keras.layers.Dense(128, activation='relu'))\n",
    "    model.add(tf.keras.layers.Dense(128, activation='relu'))\n",
    "    model.add(tf.keras.layers.Dense(64, activation='relu'))    \n",
    "    model.add(tf.keras.layers.Dense(32, activation='relu')) \n",
    "    \n",
    "    model.add(tf.keras.layers.Dense(5, activation='linear'))\n",
    "    \n",
    "    return model"
   ]
  },
  {
   "cell_type": "code",
   "execution_count": 4,
   "id": "e9970b38",
   "metadata": {},
   "outputs": [],
   "source": [
    "env= gym.make('highway-v0')"
   ]
  },
  {
   "cell_type": "code",
   "execution_count": 5,
   "id": "8308cae5",
   "metadata": {},
   "outputs": [
    {
     "data": {
      "text/plain": [
       "array([[ 1.        ,  1.        ,  0.5       ,  0.41666666,  0.        ],\n",
       "       [ 1.        ,  0.12953883, -0.5       , -0.05355501,  0.        ],\n",
       "       [ 1.        ,  0.26911008, -0.5       , -0.04965264,  0.        ],\n",
       "       [ 1.        ,  0.39865765, -0.25      , -0.02877636,  0.        ],\n",
       "       [ 1.        ,  0.53819424,  0.25      , -0.03109277,  0.        ]],\n",
       "      dtype=float32)"
      ]
     },
     "execution_count": 5,
     "metadata": {},
     "output_type": "execute_result"
    }
   ],
   "source": [
    "env.reset()"
   ]
  },
  {
   "cell_type": "code",
   "execution_count": 6,
   "id": "444d106e",
   "metadata": {
    "scrolled": false
   },
   "outputs": [
    {
     "data": {
      "text/plain": [
       "array([[ 1.        ,  1.        ,  0.        ,  0.41666666,  0.        ],\n",
       "       [ 1.        ,  0.07794033,  0.75      , -0.01801931,  0.        ],\n",
       "       [ 1.        ,  0.14426376,  0.25      , -0.02270218,  0.        ],\n",
       "       [ 1.        ,  0.21243836,  0.        , -0.02724218,  0.        ],\n",
       "       [ 1.        ,  0.27671912,  0.5       , -0.05047384,  0.        ]],\n",
       "      dtype=float32)"
      ]
     },
     "execution_count": 6,
     "metadata": {},
     "output_type": "execute_result"
    }
   ],
   "source": [
    "env.config['vehicles_density']=2\n",
    "env.reset()"
   ]
  },
  {
   "cell_type": "code",
   "execution_count": 7,
   "id": "d1057350",
   "metadata": {},
   "outputs": [
    {
     "data": {
      "text/plain": [
       "2"
      ]
     },
     "execution_count": 7,
     "metadata": {},
     "output_type": "execute_result"
    }
   ],
   "source": [
    "env.config['vehicles_density']"
   ]
  },
  {
   "cell_type": "code",
   "execution_count": 8,
   "id": "a24e8e9c",
   "metadata": {},
   "outputs": [],
   "source": [
    "from rl.agents import DQNAgent\n",
    "from rl.policy import BoltzmannQPolicy\n",
    "from rl.memory import SequentialMemory"
   ]
  },
  {
   "cell_type": "code",
   "execution_count": 9,
   "id": "5d6833ee",
   "metadata": {},
   "outputs": [],
   "source": [
    "def build_agent(model, actions):\n",
    "    policy = BoltzmannQPolicy()\n",
    "    memory = SequentialMemory(limit=75000, window_length=1)\n",
    "    dqn = DQNAgent(model=model, memory=memory, policy=policy, \n",
    "                  nb_actions=5, nb_steps_warmup=10, target_model_update=1e-2)\n",
    "    return dqn"
   ]
  },
  {
   "cell_type": "code",
   "execution_count": null,
   "id": "8ec965e0",
   "metadata": {
    "scrolled": true
   },
   "outputs": [
    {
     "name": "stdout",
     "output_type": "stream",
     "text": [
      "Training for 5000 steps ...\n",
      "Interval 1 (0 steps performed)\n",
      "  266/10000 [..............................] - ETA: 1:18:08 - reward: 0.6682"
     ]
    }
   ],
   "source": [
    "# model= create_model()\n",
    "# dqn = build_agent(model, 5)\n",
    "# dqn.compile(tf.keras.optimizers.Adam(lr=1e-3), metrics=['mae'])\n",
    "dqn.fit(env, nb_steps=5000, visualize=False, verbose=1)\n",
    "dqn.save_weights('dqn_weights_dense_latest2.h5f')"
   ]
  },
  {
   "cell_type": "code",
   "execution_count": 22,
   "id": "c972bfe5",
   "metadata": {},
   "outputs": [],
   "source": [
    "model= create_model()\n",
    "dqn = build_agent(model, 5)\n",
    "dqn.compile(tf.keras.optimizers.Adam(lr=1e-3), metrics=['mae'])\n",
    "\n",
    "# dqn.load_weights('dqn_weights.h5f')          #All it wants is right lane                  25-->25-->5\n",
    "# dqn.load_weights('dqn_weights2.h5f')         #Doesn't understand slowing down notion.     25-->128-->128-->64-->32-->5\n",
    "dqn.load_weights('dqn_weights_dense_latest.h5f')     #Doesn't understand slowing down notion.      25-->128-->128-->64-->32-->5\n",
    "# dqn.load_weights('dqn_weights_dense2.h5f')   #Worst, doesn't do anything.                 25-->256-->256-->5\n",
    "# dqn.load_weights('dqn_weights_dense007.h5f') #Very bad, doesn't do anything               25-->128-->128-->64-->32-->5\n"
   ]
  },
  {
   "cell_type": "code",
   "execution_count": 23,
   "id": "6cc48744",
   "metadata": {
    "scrolled": false
   },
   "outputs": [
    {
     "name": "stdout",
     "output_type": "stream",
     "text": [
      "Testing for 3 episodes ...\n",
      "Episode 1: reward: 22.294, steps: 34\n",
      "Episode 2: reward: 28.756, steps: 40\n",
      "Episode 3: reward: 21.827, steps: 30\n"
     ]
    }
   ],
   "source": [
    "dqn.test(env,nb_episodes=3,visualize=True)\n",
    "env.close()"
   ]
  }
 ],
 "metadata": {
  "kernelspec": {
   "display_name": "Python 3",
   "language": "python",
   "name": "python3"
  },
  "language_info": {
   "codemirror_mode": {
    "name": "ipython",
    "version": 3
   },
   "file_extension": ".py",
   "mimetype": "text/x-python",
   "name": "python",
   "nbconvert_exporter": "python",
   "pygments_lexer": "ipython3",
   "version": "3.9.5"
  }
 },
 "nbformat": 4,
 "nbformat_minor": 5
}
