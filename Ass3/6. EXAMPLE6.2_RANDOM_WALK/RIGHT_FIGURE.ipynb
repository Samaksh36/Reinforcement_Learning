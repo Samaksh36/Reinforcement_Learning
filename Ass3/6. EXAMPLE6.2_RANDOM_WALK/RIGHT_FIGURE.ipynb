{
 "cells": [
  {
   "cell_type": "code",
   "execution_count": 58,
   "id": "91e7c0ca",
   "metadata": {},
   "outputs": [],
   "source": [
    "import numpy as np\n",
    "import matplotlib.pyplot as plt\n",
    "import math"
   ]
  },
  {
   "cell_type": "code",
   "execution_count": 59,
   "id": "20d5e40f",
   "metadata": {},
   "outputs": [],
   "source": [
    "#EPISODE GENERATOR"
   ]
  },
  {
   "cell_type": "code",
   "execution_count": 60,
   "id": "7edc0c8a",
   "metadata": {},
   "outputs": [],
   "source": [
    "def generate_episode():\n",
    "    State= np.array(['T1','A','B','C','D','E','T2'])\n",
    "    mapper_states={1:'A', 2:'B', 3:'C', 4:'D', 5:'E'}\n",
    "\n",
    "    episode=[]\n",
    "    state=3\n",
    "    while(0<state<6):\n",
    "        \n",
    "        action= np.random.choice([-1,1], p=[0.5,0.5])\n",
    "        \n",
    "        next_state= state+action\n",
    "        \n",
    "        if(next_state==6):\n",
    "            reward =1\n",
    "        \n",
    "        else:\n",
    "            reward=0\n",
    "        \n",
    "        episode.append(mapper_states[state])\n",
    "        episode.append(reward)\n",
    "        \n",
    "        \n",
    "        state= next_state\n",
    "    \n",
    "    return episode\n",
    "            \n",
    "        \n",
    "        \n",
    "    "
   ]
  },
  {
   "cell_type": "markdown",
   "id": "17e80b43",
   "metadata": {},
   "source": [
    "# EXAMPLE 6.2 RIGHT FIGURE (TD)"
   ]
  },
  {
   "cell_type": "code",
   "execution_count": 61,
   "id": "47dc40de",
   "metadata": {},
   "outputs": [],
   "source": [
    "def runTD(alpha):\n",
    "    \n",
    "    mapper_states={'A':1,'B':2,'C':3,'D':4,'E':5}\n",
    "    avevpi=np.zeros((100,7))\n",
    "    \n",
    "    for runs in range(100):\n",
    "        vpi=np.array([0,0.5,0.5,0.5,0.5,0.5,0])\n",
    "        \n",
    "        for episodes in range(100):\n",
    "            \n",
    "            episode= generate_episode()\n",
    "            \n",
    "            T= len(episode)\n",
    "            t=0\n",
    "            \n",
    "            while(t<T-1):                \n",
    "                state= mapper_states[episode[t]]\n",
    "                reward= episode[t+1]\n",
    "                \n",
    "                if(t+2==T):\n",
    "                    next_state=0\n",
    "                else:\n",
    "                    next_state= mapper_states[episode[t+2]]\n",
    "                \n",
    "                vpi[state]= vpi[state]+ (alpha*(vpi[next_state]+reward-vpi[state]))\n",
    "                t+=2\n",
    "            for i in range(1,6):\n",
    "                avevpi[episodes][i]= avevpi[episodes][i]+vpi[i]\n",
    "        \n",
    "\n",
    "    \n",
    "    return avevpi"
   ]
  },
  {
   "cell_type": "code",
   "execution_count": 62,
   "id": "b0a0f028",
   "metadata": {},
   "outputs": [],
   "source": [
    "#Average over 100 runs\n",
    "vpi_1= runTD(0.05)/100\n",
    "vpi_2= runTD(0.10)/100\n",
    "vpi_3= runTD(0.15)/100"
   ]
  },
  {
   "cell_type": "code",
   "execution_count": 63,
   "id": "bb7a128f",
   "metadata": {},
   "outputs": [],
   "source": [
    "True_state_values=[0,1/6,2/6,3/6,4/6,5/6,0]\n",
    "rmse_1=[]\n",
    "rmse_2=[]\n",
    "rmse_3=[]\n",
    "\n",
    "for episodes in range(100):\n",
    "    diff_1=0\n",
    "    diff_2=0\n",
    "    diff_3=0\n",
    "    \n",
    "    for states in range(1,6):\n",
    "        diff_1+= (vpi_1[episodes][states] - True_state_values[states])**2\n",
    "        diff_2+= (vpi_2[episodes][states] - True_state_values[states])**2\n",
    "        diff_3+= (vpi_3[episodes][states] - True_state_values[states])**2\n",
    "        \n",
    "        \n",
    "    \n",
    "    rmse_1.append(math.sqrt(diff_1/5))\n",
    "    rmse_2.append(math.sqrt(diff_2/5))\n",
    "    rmse_3.append(math.sqrt(diff_3/5))"
   ]
  },
  {
   "cell_type": "markdown",
   "id": "e057a3f4",
   "metadata": {},
   "source": [
    "# EXAMPLE 6.2 RIGHT FIGURE (MC)"
   ]
  },
  {
   "cell_type": "code",
   "execution_count": 64,
   "id": "e3d0b986",
   "metadata": {},
   "outputs": [],
   "source": [
    "def runMC(alpha):\n",
    "    \n",
    "    \n",
    "    mapper_states={'A':1,'B':2,'C':3,'D':4,'E':5}\n",
    "    avevpi=np.zeros((100,7))\n",
    "    \n",
    "    for runs in range(100):\n",
    "        mcvpi=np.array([0,0.5,0.5,0.5,0.5,0.5,0])\n",
    "        \n",
    "        for episodes in range(100):\n",
    "            \n",
    "            episode= generate_episode()\n",
    "            \n",
    "            T= len(episode)\n",
    "            t=T-1\n",
    "            G=0\n",
    "            \n",
    "            while(t>0):\n",
    "            \n",
    "                reward= episode[t]\n",
    "                G= G+ reward\n",
    "                state= mapper_states[episode[t-1]]\n",
    "        \n",
    "                mcvpi[state]= ((1-alpha)*mcvpi[state]) + (alpha*G)\n",
    "                \n",
    "                t-=2\n",
    "                \n",
    "            for i in range(1,6):\n",
    "                avevpi[episodes][i]= avevpi[episodes][i]+mcvpi[i]\n",
    "        \n",
    "\n",
    "    \n",
    "    return avevpi\n",
    "    "
   ]
  },
  {
   "cell_type": "code",
   "execution_count": 65,
   "id": "268d8c15",
   "metadata": {},
   "outputs": [],
   "source": [
    "#Average over 100 runs\n",
    "mc_vpi_1=runMC(0.01)/100\n",
    "mc_vpi_2=runMC(0.02)/100\n",
    "mc_vpi_3=runMC(0.03)/100\n",
    "mc_vpi_4=runMC(0.04)/100"
   ]
  },
  {
   "cell_type": "code",
   "execution_count": 66,
   "id": "41233cbe",
   "metadata": {},
   "outputs": [],
   "source": [
    "True_state_values=[0,1/6,2/6,3/6,4/6,5/6,0]\n",
    "mcrmse_1=[]\n",
    "mcrmse_2=[]\n",
    "mcrmse_3=[]\n",
    "mcrmse_4=[]\n",
    "\n",
    "for episodes in range(100):\n",
    "    diff_1=0\n",
    "    diff_2=0\n",
    "    diff_3=0\n",
    "    diff_4=0\n",
    "    \n",
    "    for states in range(1,6):\n",
    "        diff_1+= (mc_vpi_1[episodes][states] - True_state_values[states])**2\n",
    "        diff_2+= (mc_vpi_2[episodes][states] - True_state_values[states])**2\n",
    "        diff_3+= (mc_vpi_3[episodes][states] - True_state_values[states])**2\n",
    "        diff_4+= (mc_vpi_4[episodes][states] - True_state_values[states])**2\n",
    "\n",
    "        \n",
    "    \n",
    "    mcrmse_1.append(math.sqrt(diff_1/5))\n",
    "    mcrmse_2.append(math.sqrt(diff_2/5))\n",
    "    mcrmse_3.append(math.sqrt(diff_3/5))\n",
    "    mcrmse_4.append(math.sqrt(diff_4/5))\n",
    "    "
   ]
  },
  {
   "cell_type": "markdown",
   "id": "aba201ff",
   "metadata": {},
   "source": [
    "# GENERATE THE FIGURE"
   ]
  },
  {
   "cell_type": "code",
   "execution_count": 67,
   "id": "d903e45a",
   "metadata": {},
   "outputs": [
    {
     "data": {
      "image/png": "[encoded data removed]",
      "text/plain": [
       "<Figure size 576x576 with 1 Axes>"
      ]
     },
     "metadata": {},
     "output_type": "display_data"
    }
   ],
   "source": [
    "plt.figure(1, figsize=(8,8))\n",
    "# plt.figure(1, figsize=(8,8))\n",
    "plt.style.use('dark_background')\n",
    "plt.title('RMSE- EXAMPLE_6.2- RIGHT FIGURE')\n",
    "plt.plot(rmse_1, label='a=0.05', color='blue',linestyle='-')\n",
    "plt.plot(rmse_2, label='a=0.10', color='blue',linestyle=':')\n",
    "plt.plot(rmse_3, label='a=0.15', color='blue',linestyle='--')\n",
    "# plt.legend()\n",
    "# plt.show()\n",
    "plt.plot(mcrmse_1, label='a=0.01', color='red', linestyle='-')\n",
    "plt.plot(mcrmse_2, label='a=0.02',color='red', linestyle=':')\n",
    "plt.plot(mcrmse_3, label='a=0.03',color='red', linestyle='--')\n",
    "plt.plot(mcrmse_4, label='a=0.04',color='red', linestyle='dashdot')\n",
    "\n",
    "plt.legend()\n",
    "plt.show()"
   ]
  }
 ],
 "metadata": {
  "kernelspec": {
   "display_name": "Python 3",
   "language": "python",
   "name": "python3"
  },
  "language_info": {
   "codemirror_mode": {
    "name": "ipython",
    "version": 3
   },
   "file_extension": ".py",
   "mimetype": "text/x-python",
   "name": "python",
   "nbconvert_exporter": "python",
   "pygments_lexer": "ipython3",
   "version": "3.9.5"
  }
 },
 "nbformat": 4,
 "nbformat_minor": 5
}
