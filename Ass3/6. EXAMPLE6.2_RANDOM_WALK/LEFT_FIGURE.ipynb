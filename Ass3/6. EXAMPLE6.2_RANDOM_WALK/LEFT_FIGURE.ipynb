{
 "cells": [
  {
   "cell_type": "code",
   "execution_count": 1,
   "id": "4e4139ac",
   "metadata": {},
   "outputs": [],
   "source": [
    "import numpy as np\n",
    "import matplotlib.pyplot as plt\n",
    "import math"
   ]
  },
  {
   "cell_type": "markdown",
   "id": "109b8e3e",
   "metadata": {},
   "source": [
    "# TEMPORAL DIFFERENCE LEARNING"
   ]
  },
  {
   "cell_type": "code",
   "execution_count": 12,
   "id": "8465d386",
   "metadata": {
    "scrolled": true
   },
   "outputs": [],
   "source": [
    "State= np.array(['T1','A','B','C','D','E','T2'])\n",
    "\n",
    "vpi_1=np.array([0,0.5,0.5,0.5,0.5,0.5,0]) #Initialise v(s) for all states. alpha=0.05\n",
    "vpi_2=np.array([0,0.5,0.5,0.5,0.5,0.5,0]) #Initialise v(s) for all states. alpha=0.10\n",
    "vpi_3=np.array([0,0.5,0.5,0.5,0.5,0.5,0]) #Initialise v(s) for all states. alpha=0.15\n",
    "\n",
    "vfe_1=[] #Store v(s) after every episode to plot the left figure in the example.\n",
    "vfe_2=[]\n",
    "vfe_3=[]\n",
    "\n",
    "\n",
    "\n",
    "EPISODES=[] #Make an empty array to store all the episodes generated.\n",
    "\n",
    "for episodes in range(100): #Run for 100 episodes x 100 runs\n",
    "    state= 3 #Start in 'C'\n",
    "    episode=[] #An empty list to keep the record of the current episode.\n",
    "    \n",
    "\n",
    "    while(0<state<6):#Loop till you don't reach Terminal States\n",
    "        \n",
    "        episode.append(State[state]) #append the state in the episode list\n",
    "        action= np.random.choice([-1,1], p=[0.5,0.5]) #Equi probable option of picking left or right\n",
    "        \n",
    "        next_state= state + action #If left then go to previous index (curr-1), if right go to the next (curr+1)\n",
    "        \n",
    "        vpiss_1=0 #Initialise state value of the next state\n",
    "        vpiss_2=0 #Initialise state value of the next state\n",
    "        vpiss_3=0 #Initialise state value of the next state\n",
    "        \n",
    "        if(next_state==6):\n",
    "            reward=1\n",
    "            vpiss_1=0  #State Value of Terminal State will always be zero\n",
    "            vpiss_2=0\n",
    "            vpiss_3=0\n",
    "            \n",
    "        elif(next_state==0):\n",
    "            reward=0\n",
    "            vpiss_1=0  #State Value of Terminal State will always be zero\n",
    "            vpiss_2=0\n",
    "            vpiss_3=0\n",
    "            \n",
    "        else:\n",
    "            reward=0\n",
    "            vpiss_1= vpi_1[next_state] #Put the estimated state value of the next state in vpiss variable.\n",
    "            vpiss_2= vpi_2[next_state]\n",
    "            vpiss_3= vpi_3[next_state]\n",
    "            \n",
    "            \n",
    "        #Use TD definition to get the estimate of the current state, with alpha =0.1\n",
    "        # V(s)= V(s) + alpha( gama*V(s') + reward - V(s) )\n",
    "        vpi_1[state]= vpi_1[state]+ 0.05*(reward + vpiss_1 - vpi_1[state])\n",
    "        vpi_2[state]= vpi_2[state]+ 0.1*(reward + vpiss_2 - vpi_2[state])\n",
    "        vpi_3[state]= vpi_3[state]+ 0.15*(reward + vpiss_3- vpi_3[state])\n",
    "        \n",
    "        #Now our current state, can be the next state; as we are done for 't'\n",
    "        state= next_state\n",
    "        \n",
    "        #Append the reward in the episode list\n",
    "        episode.append(reward) \n",
    " \n",
    "        \n",
    "  \n",
    "    temp_1=vpi_1.copy()\n",
    "    temp_2=vpi_2.copy()\n",
    "    temp_3=vpi_3.copy()\n",
    "    \n",
    "    \n",
    "    vfe_1.append(temp_1)\n",
    "    vfe_2.append(temp_2)\n",
    "    vfe_3.append(temp_3)\n",
    "    \n",
    "    EPISODES.append(episode)\n"
   ]
  },
  {
   "cell_type": "markdown",
   "id": "e2d5b7e1",
   "metadata": {},
   "source": [
    "# EXAMPLE 6.2, LEFT FIGURE"
   ]
  },
  {
   "cell_type": "code",
   "execution_count": 13,
   "id": "0b8b3ae2",
   "metadata": {},
   "outputs": [
    {
     "data": {
      "image/png": "[encoded data removed]",
      "text/plain": [
       "<Figure size 576x576 with 1 Axes>"
      ]
     },
     "metadata": {},
     "output_type": "display_data"
    }
   ],
   "source": [
    "plt.figure(0, figsize=(8,8))\n",
    "plt.style.use('dark_background')\n",
    "\n",
    "\n",
    "plt.plot([1,2,3,4,5], [0.5,0.5,0.5,0.5,0.5], color='white', label='0')\n",
    "plt.scatter([1,2,3,4,5] , [0.5,0.5,0.5,0.5,0.5], color='white')\n",
    "\n",
    "plt.plot([1,2,3,4,5],vfe_2[0][1:-1], color='red', label='1')\n",
    "plt.scatter([1,2,3,4,5] , vfe_2[0][1:-1], color='red')\n",
    "\n",
    "\n",
    "plt.plot([1,2,3,4,5],vfe_2[9][1:-1], color='green', label='10')\n",
    "plt.scatter([1,2,3,4,5] , vfe_2[9][1:-1], color='green')\n",
    "\n",
    "plt.plot([1,2,3,4,5],vfe_2[99][1:-1], color='blue', label='100')\n",
    "plt.scatter([1,2,3,4,5] , vfe_2[99][1:-1], color='blue')\n",
    "\n",
    "plt.plot([1,2,3,4,5], [1/6,2/6,3/6,4/6,5/6], color='Yellow',label='True')\n",
    "plt.scatter([1,2,3,4,5] ,[1/6,2/6,3/6,4/6,5/6] , color='Yellow')\n",
    "\n",
    "\n",
    "plt.legend()\n",
    "plt.xticks([1,2,3,4,5],State[1:-1])\n",
    "plt.show()"
   ]
  },
  {
   "cell_type": "markdown",
   "id": "1235feda",
   "metadata": {},
   "source": [
    "### EXERCISE 6.3)"
   ]
  },
  {
   "cell_type": "markdown",
   "id": "ce1d042e",
   "metadata": {},
   "source": [
    "From the results shown in the left graph of the random walk example it\n",
    "appears that the first episode results in a change in only V (A). What does this tell you\n",
    "about what happened on the first episode? Why was only the estimate for this one state\n",
    "changed? By exactly how much was it changed?"
   ]
  },
  {
   "cell_type": "markdown",
   "id": "6077cfe3",
   "metadata": {},
   "source": [
    "ANS) The first episode can only change the state value for 'A' or 'E'. This is because as per the update rule:\n",
    "v(s)= v(s) + a(v(s')+r-v(s)), for all states other than terminal states v(s) is 1/2. This means V(s') and V(s) cancel with each other inside the alpha bracket. V(s)= V(s) + ar is left. Since, all rewards in the middle are zero ==> v(s)= v(s) and there is no change for the middle states.\n",
    "\n",
    "However, for 'A' and 'E', this cancelation won't take place if s' is 'T1' or 'T2'; because the value of terminal states is zero. Since, in episode 1 the value of state 'A' changed this means that in episode 1, we reached state 'A' and Terminated on the left 'T1'.\n",
    "V(A)= V(A) + a(0 + V(T1) - V(A))\n",
    "V(A)= 0.5 + a(0) + a(0) - a(1/2)\n",
    "\n",
    "V(A)= 0.5 - a(1/2)\n",
    "v(A)= 0.5- a/2\n",
    "\n",
    "and hence, the value of state A went down in the first episode.\n",
    "The value of state 'A' reduced by a/2. Where a is alpha parameter. For alpha=0.1... reduction is 0.05\n",
    "Hence, the new value os state 'A' is 0.45."
   ]
  },
  {
   "cell_type": "markdown",
   "id": "f0a44816",
   "metadata": {},
   "source": [
    "### EXERCISE 6.4)"
   ]
  },
  {
   "cell_type": "markdown",
   "id": "63957401",
   "metadata": {},
   "source": [
    "The specific results shown in the right graph of the random walk example\n",
    "are dependent on the value of the step-size parameter, ↵. Do you think the conclusions\n",
    "about which algorithm is better would be a↵ected if a wider range of ↵ values were used?\n",
    "Is there a di↵erent, fixed value of ↵ at which either algorithm would have performed\n",
    "significantly better than shown? Why or why not?"
   ]
  },
  {
   "cell_type": "markdown",
   "id": "8fcb81e0",
   "metadata": {},
   "source": [
    "ANS)\n",
    "No, there cannot be any special a for which one method would perform. First of all alpha must be small for convergence to occur in both Monte carlo and TD. So, we cannot use a very wide range, we would still want alpha to be sufficiently small to ensure convergence. Moreover in all the graphs shown, the learning curve has saturated in every case of alpha, so there cannot be any meaningful conclusion drawn from taking some other alphas. However, having alpha dependent on time or the states might be a better option and help in better estimates."
   ]
  },
  {
   "cell_type": "markdown",
   "id": "28821c1e",
   "metadata": {},
   "source": [
    "### EXERCISE 6.5)"
   ]
  },
  {
   "cell_type": "markdown",
   "id": "4f5c2bcb",
   "metadata": {},
   "source": [
    "In the right graph of the random walk example, the RMS error of the\n",
    "TD method seems to go down and then up again, particularly at high ↵’s. What could\n",
    "have caused this? Do you think this always occurs, or might it be a function of how the\n",
    "approximate value function was initialized?"
   ]
  },
  {
   "cell_type": "markdown",
   "id": "3ffed16c",
   "metadata": {},
   "source": [
    "ANS) Taking larger steps in higher alphas in case of TD method is turning out to rise the errors later in the state. Maybe since, we initialised every state value to the same numerical number, this results in cancelling out of v[s] and v[s’] a lot of times. However, later in the episode this cancellation would not occur and we might make our estimates of current states noisy due to noise of other states. Since, state ‘C’ is initialized to its actual True value, it will move away from it and hence RMSE would increase."
   ]
  }
 ],
 "metadata": {
  "kernelspec": {
   "display_name": "Python 3",
   "language": "python",
   "name": "python3"
  },
  "language_info": {
   "codemirror_mode": {
    "name": "ipython",
    "version": 3
   },
   "file_extension": ".py",
   "mimetype": "text/x-python",
   "name": "python",
   "nbconvert_exporter": "python",
   "pygments_lexer": "ipython3",
   "version": "3.9.5"
  }
 },
 "nbformat": 4,
 "nbformat_minor": 5
}
