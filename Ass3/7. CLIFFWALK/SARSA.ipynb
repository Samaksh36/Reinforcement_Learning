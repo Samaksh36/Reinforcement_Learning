{
 "cells": [
  {
   "cell_type": "code",
   "execution_count": 1,
   "id": "0643fc93",
   "metadata": {},
   "outputs": [],
   "source": [
    "import numpy as np\n",
    "import matplotlib.pyplot as plt"
   ]
  },
  {
   "cell_type": "code",
   "execution_count": 2,
   "id": "f85f030f",
   "metadata": {},
   "outputs": [],
   "source": [
    "States=np.zeros((4,12))\n",
    "count=0\n",
    "for i in range(4):\n",
    "    for j in range(12):\n",
    "        States[i][j]=count\n",
    "        count+=1"
   ]
  },
  {
   "cell_type": "code",
   "execution_count": 3,
   "id": "1a6dca95",
   "metadata": {},
   "outputs": [],
   "source": [
    "def run_SARSA(alpha):\n",
    "    EPISODE=500\n",
    "    reward_list=np.zeros(EPISODE)\n",
    "  \n",
    "    #We have 48 states, 4 actions. Hence, Q is(48x4)\n",
    "    Q= np.zeros((48,4))\n",
    "    episode=[]\n",
    "\n",
    "\n",
    "    for episodes in range(EPISODE): \n",
    "        \n",
    "        T_reward=0\n",
    "        action_mapper={0:'left', 1:'up', 2:'right', 3:'down'}\n",
    "        e=0.1\n",
    "\n",
    "        #action_list=['left','up','right','down']\n",
    "        action_list=[0,1,2,3]\n",
    "\n",
    "        state=36 #Start at 36th state\n",
    "        action= np.random.choice(action_list, p=[0.25,0.25,0.25,0.25])#Initialise a starting action\n",
    "\n",
    "        \n",
    "        while(state<=36):\n",
    "\n",
    "\n",
    "            if(action==0):\n",
    "                if(state%12!=0):\n",
    "                    next_state= state-1\n",
    "                else:\n",
    "                    next_state=state\n",
    "\n",
    "\n",
    "            if(action==1):\n",
    "                if(state>11):\n",
    "                    next_state= state-12\n",
    "                else:\n",
    "                    next_state=state\n",
    "\n",
    "\n",
    "            if(action==2):\n",
    "                if(state%12 != 11):\n",
    "                    next_state= state+1\n",
    "                else:\n",
    "                    next_state=state\n",
    "\n",
    "\n",
    "            if(action==3):\n",
    "                if(state<36):\n",
    "                    next_state= state+12\n",
    "                else:\n",
    "                    next_state=state\n",
    "\n",
    "            greedy_action= np.argmax(Q[next_state])\n",
    "            P=[e/4, e/4, e/4, e/4]\n",
    "            P[greedy_action]= 1-e+(e/4)\n",
    "            next_action=np.random.choice(action_list,p=P)\n",
    "\n",
    "            if(next_state<=36 or next_state==47):\n",
    "                reward=-1\n",
    "                T_reward= T_reward-1\n",
    "    \n",
    "            else:\n",
    "                reward=-100\n",
    "                T_reward= T_reward-100\n",
    "\n",
    "            Q[state,action]= Q[state,action]+ (alpha*(reward + Q[next_state,next_action] - Q[state,action]))\n",
    "\n",
    "            state=  next_state\n",
    "            action= next_action\n",
    "        reward_list[episodes]=T_reward\n",
    "    \n",
    "    return reward_list\n",
    "\n"
   ]
  },
  {
   "cell_type": "code",
   "execution_count": 4,
   "id": "684a0cd4",
   "metadata": {},
   "outputs": [],
   "source": [
    "rewards=[0]*500\n",
    "for runs in range(1000):\n",
    "\n",
    "    rewards+=run_SARSA(0.2)\n",
    "\n",
    "        \n",
    "\n",
    "rewards/=1000"
   ]
  },
  {
   "cell_type": "code",
   "execution_count": 11,
   "id": "d2470bea",
   "metadata": {},
   "outputs": [
    {
     "data": {
      "text/plain": [
       "[<matplotlib.lines.Line2D at 0x2384fe97280>]"
      ]
     },
     "execution_count": 11,
     "metadata": {},
     "output_type": "execute_result"
    },
    {
     "data": {
      "image/png": "[encoded data removed]",
      "text/plain": [
       "<Figure size 432x288 with 1 Axes>"
      ]
     },
     "metadata": {},
     "output_type": "display_data"
    }
   ],
   "source": [
    "plt.style.use('dark_background')\n",
    "\n",
    "plt.figure(0)\n",
    "plt.title('SARSA CURVE')\n",
    "plt.plot(rewards[10:])"
   ]
  }
 ],
 "metadata": {
  "kernelspec": {
   "display_name": "Python 3",
   "language": "python",
   "name": "python3"
  },
  "language_info": {
   "codemirror_mode": {
    "name": "ipython",
    "version": 3
   },
   "file_extension": ".py",
   "mimetype": "text/x-python",
   "name": "python",
   "nbconvert_exporter": "python",
   "pygments_lexer": "ipython3",
   "version": "3.9.5"
  }
 },
 "nbformat": 4,
 "nbformat_minor": 5
}
