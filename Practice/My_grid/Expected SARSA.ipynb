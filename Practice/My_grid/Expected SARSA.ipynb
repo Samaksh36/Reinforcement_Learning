{
 "cells": [
  {
   "cell_type": "code",
   "execution_count": 1,
   "id": "7ba5eea2",
   "metadata": {},
   "outputs": [],
   "source": [
    "import numpy as np\n",
    "import matplotlib.pyplot as plt\n",
    "from PIL import Image\n",
    "import math\n",
    "import cv2"
   ]
  },
  {
   "cell_type": "code",
   "execution_count": 2,
   "id": "30820eb9",
   "metadata": {},
   "outputs": [],
   "source": [
    "def step(state,action):\n",
    "    \n",
    "    done= False\n",
    "    reward=-1\n",
    "    next_state=state\n",
    "\n",
    "    #Left\n",
    "    if(a==0 and state%5!=0):\n",
    "        next_state= state-1\n",
    "\n",
    "    #Up\n",
    "    if(a==1 and state>4):\n",
    "        next_state= state-5\n",
    "\n",
    "    #Right       \n",
    "    if(a==2 and state%5!=4):\n",
    "        next_state= state+1\n",
    "\n",
    "    #Down        \n",
    "    if(a==3 and state<20):\n",
    "        next_state= state+5\n",
    "\n",
    "\n",
    "   #Check if we reached Terminal States \n",
    "    if(next_state in Cross):\n",
    "        reward= -50\n",
    "        done=True\n",
    "\n",
    "    if(next_state in Goal):\n",
    "        if(next_state==24):\n",
    "            reward= 20\n",
    "        else:\n",
    "            reward=5\n",
    "\n",
    "        done= True\n",
    "        \n",
    "    return(next_state, reward, done, [state,action,next_state,reward])\n"
   ]
  },
  {
   "cell_type": "markdown",
   "id": "d1636495",
   "metadata": {},
   "source": [
    "# EXPECTED SARSA"
   ]
  },
  {
   "cell_type": "code",
   "execution_count": 5,
   "id": "b57cc958",
   "metadata": {},
   "outputs": [
    {
     "name": "stdout",
     "output_type": "stream",
     "text": [
      "99999                                                                                                                                                                                                             \r"
     ]
    }
   ],
   "source": [
    "total_episodes= 25000*4\n",
    "e=0.95\n",
    "min_e= 0.1\n",
    "\n",
    "Start=0\n",
    "alpha=0.2\n",
    "gamma=0.99\n",
    "decay_rate=0.005\n",
    "\n",
    "Goal= [24,12]\n",
    "Cross= [9,10,21]\n",
    "REWARDS=[]\n",
    "Q= np.zeros((25,4))\n",
    "\n",
    "for episode in range(total_episodes):\n",
    "    Tr=0\n",
    "    done= False\n",
    "    state=0\n",
    "\n",
    "    P= [e/4]*4\n",
    "    greedy_arm= np.argmax(Q[state])\n",
    "    P[greedy_arm]+= (1-e)\n",
    "    \n",
    "    a= np.random.choice([0,1,2,3], p=P)\n",
    "    \n",
    "    while not done:\n",
    "        \n",
    "        next_state, reward, done, info= step(state,a)\n",
    "        \n",
    "        P= [e/4]*4\n",
    "        greedy_arm= np.argmax(Q[next_state])\n",
    "        P[greedy_arm]+= (1-e)\n",
    "        \n",
    "        E=0\n",
    "        for a_ in range(4):\n",
    "            next_state, reward, done, info= step(state,a_)\n",
    "            E= E + (Q[next_state][a_]*P[a_])\n",
    "            \n",
    "        \n",
    "        Q[state][a]= Q[state][a]+(alpha*(reward + (gamma*E)- Q[state][a]))\n",
    "        \n",
    "        \n",
    "        a= np.random.choice([0,1,2,3], p=P)\n",
    "        state= next_state\n",
    "        \n",
    "        Tr+=reward\n",
    "        \n",
    "    REWARDS.append(Tr)\n",
    "    \n",
    "    e= min_e + ((0.9-min_e)*np.exp(-decay_rate*episode))\n",
    "    \n",
    "    print(episode, end=' \\r')           \n",
    "            \n"
   ]
  },
  {
   "cell_type": "markdown",
   "id": "a956d49b",
   "metadata": {},
   "source": [
    "# State Action Value Table After Training"
   ]
  },
  {
   "cell_type": "code",
   "execution_count": 7,
   "id": "4de18dd9",
   "metadata": {},
   "outputs": [
    {
     "name": "stdout",
     "output_type": "stream",
     "text": [
      "State 0 : [7.7  7.7  8.89 7.05]\n",
      "State 1 : [ 7.7   8.89 10.09  9.74]\n",
      "State 2 : [ 8.89 10.09 11.3  11.17]\n",
      "State 3 : [10.09 11.3   8.53 12.62]\n",
      "State 4 : [ 11.3    8.53   8.53 -50.  ]\n",
      "State 5 : [  7.     7.7    9.74 -50.  ]\n",
      "State 6 : [ 7.02  8.89 11.17  4.73]\n",
      "State 7 : [ 9.72 10.09 12.62  5.  ]\n",
      "State 8 : [ 11.17  11.3  -50.    15.62]\n",
      "State 9 : [0. 0. 0. 0.]\n",
      "State 10 : [0. 0. 0. 0.]\n",
      "State 11 : [-43.29   8.88   5.     1.99]\n",
      "State 12 : [0. 0. 0. 0.]\n",
      "State 13 : [ 5.   12.62 15.56 17.25]\n",
      "State 14 : [ 15.62 -50.    15.56  18.59]\n",
      "State 15 : [ -0.36 -10.    -0.39   0.  ]\n",
      "State 16 : [ -0.5    0.36  15.56 -18.  ]\n",
      "State 17 : [12.81  5.   17.25 12.94]\n",
      "State 18 : [15.56 15.62 18.59 18.52]\n",
      "State 19 : [17.25 15.56 18.59 20.  ]\n",
      "State 20 : [0. 0. 0. 0.]\n",
      "State 21 : [0. 0. 0. 0.]\n",
      "State 22 : [-29.52  15.56   8.53   8.25]\n",
      "State 23 : [12.93 17.25 20.   18.52]\n",
      "State 24 : [0. 0. 0. 0.]\n"
     ]
    }
   ],
   "source": [
    "Q=Q.round(2)\n",
    "for k in range(25):\n",
    "    print('State',k,':', Q[k])"
   ]
  },
  {
   "cell_type": "markdown",
   "id": "30abd023",
   "metadata": {},
   "source": [
    "# EVALUATE THE POLICY FROM EXPECTED SARSA"
   ]
  },
  {
   "cell_type": "code",
   "execution_count": 9,
   "id": "cf4161fe",
   "metadata": {},
   "outputs": [],
   "source": [
    "REWARD=[]\n",
    "for runs in range(500):\n",
    "    \n",
    "    state=0\n",
    "    done=False\n",
    "    Tr=0\n",
    "    while not done:\n",
    "        \n",
    "        reward=-1\n",
    "        next_state=state\n",
    "        a= np.argmax(Q[state])\n",
    "        \n",
    "        #Left\n",
    "        if(a==0 and state%5!=0):\n",
    "            next_state= state-1\n",
    "  \n",
    "        #Up\n",
    "        if(a==1 and state>4):\n",
    "            next_state= state-5\n",
    "       \n",
    "        #Right       \n",
    "        if(a==2 and state%5!=4):\n",
    "            next_state= state+1\n",
    "      \n",
    "        #Down        \n",
    "        if(a==3 and state<20):\n",
    "            next_state= state+5\n",
    "            \n",
    "       #Check if we reached Terminal States \n",
    "        if(next_state in Cross):\n",
    "            reward= -50\n",
    "            done=True\n",
    "        \n",
    "        if(next_state in Goal):\n",
    "            if(next_state==24):\n",
    "                reward= 20\n",
    "            else:\n",
    "                reward=5\n",
    "                \n",
    "            done= True\n",
    "        \n",
    "        state= next_state\n",
    "        Tr+=reward\n",
    "    \n",
    "    REWARD.append(Tr)\n",
    "   \n",
    "        "
   ]
  },
  {
   "cell_type": "code",
   "execution_count": 10,
   "id": "4b1fc1b9",
   "metadata": {
    "scrolled": true
   },
   "outputs": [
    {
     "data": {
      "text/plain": [
       "[<matplotlib.lines.Line2D at 0x148772d2f40>]"
      ]
     },
     "execution_count": 10,
     "metadata": {},
     "output_type": "execute_result"
    },
    {
     "data": {
      "image/png": "[encoded data removed]",
      "text/plain": [
       "<Figure size 432x288 with 1 Axes>"
      ]
     },
     "metadata": {},
     "output_type": "display_data"
    }
   ],
   "source": [
    "plt.style.use('dark_background')\n",
    "plt.figure(0)\n",
    "plt.plot(REWARD, color='red')"
   ]
  },
  {
   "cell_type": "markdown",
   "id": "8ad329a0",
   "metadata": {},
   "source": [
    "Expected SARSA found the optimum policy and maximized our reward to +13, when we reach Goal 2"
   ]
  }
 ],
 "metadata": {
  "kernelspec": {
   "display_name": "Python 3",
   "language": "python",
   "name": "python3"
  },
  "language_info": {
   "codemirror_mode": {
    "name": "ipython",
    "version": 3
   },
   "file_extension": ".py",
   "mimetype": "text/x-python",
   "name": "python",
   "nbconvert_exporter": "python",
   "pygments_lexer": "ipython3",
   "version": "3.9.5"
  }
 },
 "nbformat": 4,
 "nbformat_minor": 5
}
