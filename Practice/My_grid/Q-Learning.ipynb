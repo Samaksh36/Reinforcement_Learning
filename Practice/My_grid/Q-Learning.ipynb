{
 "cells": [
  {
   "cell_type": "code",
   "execution_count": 1,
   "id": "aac82e43",
   "metadata": {},
   "outputs": [],
   "source": [
    "import numpy as np\n",
    "import matplotlib.pyplot as plt"
   ]
  },
  {
   "cell_type": "code",
   "execution_count": 2,
   "id": "6c2a147a",
   "metadata": {},
   "outputs": [],
   "source": [
    "def step(state,action):\n",
    "    \n",
    "    done= False\n",
    "    reward=-1\n",
    "    next_state=state\n",
    "\n",
    "    #Left\n",
    "    if(a==0 and state%5!=0):\n",
    "        next_state= state-1\n",
    "\n",
    "    #Up\n",
    "    if(a==1 and state>4):\n",
    "        next_state= state-5\n",
    "\n",
    "    #Right       \n",
    "    if(a==2 and state%5!=4):\n",
    "        next_state= state+1\n",
    "\n",
    "    #Down        \n",
    "    if(a==3 and state<20):\n",
    "        next_state= state+5\n",
    "\n",
    "\n",
    "   #Check if we reached Terminal States \n",
    "    if(next_state in Cross):\n",
    "        reward= -50\n",
    "        done=True\n",
    "\n",
    "    if(next_state in Goal):\n",
    "        if(next_state==24):\n",
    "            reward= 20\n",
    "        else:\n",
    "            reward=5\n",
    "\n",
    "        done= True\n",
    "        \n",
    "    return(next_state, reward, done, [state,action,next_state,reward])\n"
   ]
  },
  {
   "cell_type": "markdown",
   "id": "85af54e6",
   "metadata": {},
   "source": [
    "# Q Learning"
   ]
  },
  {
   "cell_type": "code",
   "execution_count": 3,
   "id": "9a0cda20",
   "metadata": {},
   "outputs": [
    {
     "name": "stdout",
     "output_type": "stream",
     "text": [
      "499999                                                                                                                                                                                                                                                                                                                                                                                                                                                                                                                                                                                                                                                                                          \r"
     ]
    }
   ],
   "source": [
    "total_episodes= 500000\n",
    "e=0.95\n",
    "min_e= 0.1\n",
    "\n",
    "Start=0\n",
    "alpha=0.2\n",
    "gamma=0.99\n",
    "decay_rate=0.005\n",
    "\n",
    "Goal= [24,12]\n",
    "Cross= [9,10,21]\n",
    "REWARDS=[]\n",
    "Q= np.zeros((25,4))\n",
    "\n",
    "\n",
    "for episode in range(total_episodes):\n",
    "    state= Start\n",
    "    Tr=0\n",
    "    P=[e/4]*4\n",
    "    greedy= np.argmax(Q[state])\n",
    "    P[greedy]+= (1-e)\n",
    "    a= np.random.choice([0,1,2,3], p=P)\n",
    "    \n",
    "    done= False\n",
    "    \n",
    "    while not done:\n",
    "        next_state, reward, done, info= step(state, a)\n",
    "        \n",
    "        best_a= np.argmax(Q[next_state])\n",
    "        \n",
    "        Q[state][a]= Q[state][a] + (alpha*(reward + (gamma*Q[next_state][best_a]) - Q[state][a]))\n",
    "        \n",
    "        state= next_state\n",
    "        P=[e/4]*4\n",
    "        greedy= np.argmax(Q[state])\n",
    "        P[greedy]+= (1-e)\n",
    "        a= np.random.choice([0,1,2,3], p=P)\n",
    "        \n",
    "    \n",
    "    REWARDS.append(Tr)\n",
    "    \n",
    "    e= min_e + ((0.9-min_e)*np.exp(-decay_rate*episode))\n",
    "    \n",
    "    print(episode, end=' \\r')               "
   ]
  },
  {
   "cell_type": "markdown",
   "id": "070bcfa2",
   "metadata": {},
   "source": [
    "# State Action Value Table After Training"
   ]
  },
  {
   "cell_type": "code",
   "execution_count": 4,
   "id": "6058dfd3",
   "metadata": {},
   "outputs": [
    {
     "name": "stdout",
     "output_type": "stream",
     "text": [
      "State 0 : [0.86 0.86 1.88 1.88]\n",
      "State 1 : [0.86 1.88 2.91 2.91]\n",
      "State 2 : [1.88 2.91 1.88 3.95]\n",
      "State 3 : [2.91 1.88 0.86 2.91]\n",
      "State 4 : [  1.88   0.7    0.63 -43.29]\n",
      "State 5 : [  1.88   0.86   2.91 -50.  ]\n",
      "State 6 : [1.88 1.88 3.95 3.95]\n",
      "State 7 : [2.91 2.91 2.91 5.  ]\n",
      "State 8 : [  3.95   1.88 -50.     3.95]\n",
      "State 9 : [0. 0. 0. 0.]\n",
      "State 10 : [0. 0. 0. 0.]\n",
      "State 11 : [-50.     2.91   5.     2.91]\n",
      "State 12 : [0. 0. 0. 0.]\n",
      "State 13 : [5.   2.83 1.96 1.01]\n",
      "State 14 : [  3.71 -10.    -0.36   0.  ]\n",
      "State 15 : [ -0.2  -29.52   1.65  -0.63]\n",
      "State 16 : [ -0.49   3.95   1.13 -39.51]\n",
      "State 17 : [-0.36  4.86 -0.2  -0.27]\n",
      "State 18 : [ 3.12 -0.   -0.49 -0.2 ]\n",
      "State 19 : [-0.36  0.15  0.    0.  ]\n",
      "State 20 : [ -0.4  -0.3 -10.   -0.4]\n",
      "State 21 : [0. 0. 0. 0.]\n",
      "State 22 : [-10.     1.13   0.     0.  ]\n",
      "State 23 : [-0.2  0.   0.   0. ]\n",
      "State 24 : [0. 0. 0. 0.]\n"
     ]
    }
   ],
   "source": [
    "Q=Q.round(2)\n",
    "for k in range(25):\n",
    "    print('State',k,':', Q[k])"
   ]
  },
  {
   "cell_type": "markdown",
   "id": "05dfb15f",
   "metadata": {},
   "source": [
    "# EVALUATE THE POLICY FROM Q-Learning"
   ]
  },
  {
   "cell_type": "code",
   "execution_count": 5,
   "id": "a0c3be5d",
   "metadata": {},
   "outputs": [],
   "source": [
    "REWARD=[]\n",
    "for runs in range(500):\n",
    "    \n",
    "    state=0\n",
    "    done=False\n",
    "    Tr=0\n",
    "    while not done:\n",
    "        \n",
    "        reward=-1\n",
    "        next_state=state\n",
    "        a= np.argmax(Q[state])\n",
    "        \n",
    "        #Left\n",
    "        if(a==0 and state%5!=0):\n",
    "            next_state= state-1\n",
    "  \n",
    "        #Up\n",
    "        if(a==1 and state>4):\n",
    "            next_state= state-5\n",
    "       \n",
    "        #Right       \n",
    "        if(a==2 and state%5!=4):\n",
    "            next_state= state+1\n",
    "      \n",
    "        #Down        \n",
    "        if(a==3 and state<20):\n",
    "            next_state= state+5\n",
    "            \n",
    "       #Check if we reached Terminal States \n",
    "        if(next_state in Cross):\n",
    "            reward= -50\n",
    "            done=True\n",
    "        \n",
    "        if(next_state in Goal):\n",
    "            if(next_state==24):\n",
    "                reward= 20\n",
    "            else:\n",
    "                reward=5\n",
    "                \n",
    "            done= True\n",
    "        \n",
    "        state= next_state\n",
    "        Tr+=reward\n",
    "    \n",
    "    REWARD.append(Tr)\n",
    "   \n",
    "        "
   ]
  },
  {
   "cell_type": "code",
   "execution_count": 6,
   "id": "e62ca486",
   "metadata": {
    "scrolled": true
   },
   "outputs": [
    {
     "data": {
      "text/plain": [
       "[<matplotlib.lines.Line2D at 0x22d8a0ce040>]"
      ]
     },
     "execution_count": 6,
     "metadata": {},
     "output_type": "execute_result"
    },
    {
     "data": {
      "image/png": "[encoded data removed]",
      "text/plain": [
       "<Figure size 432x288 with 1 Axes>"
      ]
     },
     "metadata": {},
     "output_type": "display_data"
    }
   ],
   "source": [
    "plt.style.use('dark_background')\n",
    "plt.figure(0)\n",
    "plt.plot(REWARD, color='red')"
   ]
  },
  {
   "cell_type": "markdown",
   "id": "9ba9909a",
   "metadata": {},
   "source": [
    "Q_Learning doesn't find the most optimal path, even when it is trained over 500,000 episodes. It creates a policy, which makes us reach Goal2 and end our episode with a reward of +2"
   ]
  }
 ],
 "metadata": {
  "kernelspec": {
   "display_name": "Python 3",
   "language": "python",
   "name": "python3"
  },
  "language_info": {
   "codemirror_mode": {
    "name": "ipython",
    "version": 3
   },
   "file_extension": ".py",
   "mimetype": "text/x-python",
   "name": "python",
   "nbconvert_exporter": "python",
   "pygments_lexer": "ipython3",
   "version": "3.9.5"
  }
 },
 "nbformat": 4,
 "nbformat_minor": 5
}
