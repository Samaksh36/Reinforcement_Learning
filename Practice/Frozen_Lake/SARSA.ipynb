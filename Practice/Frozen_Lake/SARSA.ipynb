{
 "cells": [
  {
   "cell_type": "code",
   "execution_count": 1,
   "id": "faebf317",
   "metadata": {},
   "outputs": [],
   "source": [
    "import gym \n",
    "import numpy as np\n",
    "import math"
   ]
  },
  {
   "cell_type": "code",
   "execution_count": 2,
   "id": "9070db3b",
   "metadata": {},
   "outputs": [
    {
     "data": {
      "text/plain": [
       "0"
      ]
     },
     "execution_count": 2,
     "metadata": {},
     "output_type": "execute_result"
    }
   ],
   "source": [
    "env= gym.make('FrozenLake-v1')\n",
    "env.reset()"
   ]
  },
  {
   "cell_type": "code",
   "execution_count": 3,
   "id": "fe6fc32f",
   "metadata": {},
   "outputs": [
    {
     "name": "stdout",
     "output_type": "stream",
     "text": [
      "Discrete(16)\n",
      "Discrete(4)\n"
     ]
    }
   ],
   "source": [
    "print(env.observation_space)\n",
    "print(env.action_space)"
   ]
  },
  {
   "cell_type": "code",
   "execution_count": 4,
   "id": "4909837e",
   "metadata": {},
   "outputs": [
    {
     "name": "stdout",
     "output_type": "stream",
     "text": [
      "99999\r"
     ]
    }
   ],
   "source": [
    "Q= np.zeros((16,4))\n",
    "EP=100000\n",
    "e=0.25\n",
    "alpha=0.1\n",
    "gamma=0.99\n",
    "for ep in range(EP):\n",
    "    state= env.reset()\n",
    "        \n",
    "    action= np.random.randint(4)\n",
    "    done= False\n",
    "    TR=0\n",
    "    \n",
    "    while not done:\n",
    "        next_state, reward, done, info= env.step(action)\n",
    "\n",
    "        \n",
    "        P=[e/4]*4\n",
    "        greedy_action= np.argmax(Q[next_state])\n",
    "        P[greedy_action]+= (1-e)\n",
    "        \n",
    "        next_action= np.random.choice([0,1,2,3],p=P)\n",
    "        \n",
    "\n",
    "        \n",
    "        Q[state][action]= Q[state][action]+ (alpha*(reward + (0.99*Q[next_state][next_action])- Q[state][action] ))\n",
    "        \n",
    "        state= next_state\n",
    "        action= next_action\n",
    "        \n",
    "        TR+=reward\n",
    "    \n",
    "    print(ep, end='\\r')\n",
    "      "
   ]
  },
  {
   "cell_type": "markdown",
   "id": "bdef6590",
   "metadata": {},
   "source": [
    "## Now we use these Q Values to reach the goal. let's see our success rate."
   ]
  },
  {
   "cell_type": "code",
   "execution_count": 5,
   "id": "8441e0af",
   "metadata": {},
   "outputs": [],
   "source": [
    "success=[]\n",
    "total_run=10000\n",
    "for episodes in range(total_run):\n",
    "    \n",
    "    state= env.reset()\n",
    "    action= np.argmax(Q[state])\n",
    "    done= False\n",
    "    Tr=0\n",
    "    while not done:\n",
    "        \n",
    "        next_state, reward, done, info= env.step(action)\n",
    "        \n",
    "        action= np.argmax(Q[next_state])\n",
    "        \n",
    "        state= next_state\n",
    "        \n",
    "        Tr+=reward\n",
    "\n",
    "    success.append(Tr)\n",
    "    "
   ]
  },
  {
   "cell_type": "code",
   "execution_count": 6,
   "id": "8722d8ae",
   "metadata": {},
   "outputs": [
    {
     "name": "stdout",
     "output_type": "stream",
     "text": [
      "64.0 %\n"
     ]
    }
   ],
   "source": [
    "success_rate=100*success.count(1)/total_run\n",
    "print(success_rate,\"%\")"
   ]
  },
  {
   "cell_type": "code",
   "execution_count": 7,
   "id": "46181049",
   "metadata": {},
   "outputs": [],
   "source": [
    "temp=np.zeros(16)\n",
    "for i in range(16):\n",
    "    temp[i]= np.argmax(Q[i])"
   ]
  },
  {
   "cell_type": "code",
   "execution_count": 8,
   "id": "11185bcf",
   "metadata": {
    "scrolled": true
   },
   "outputs": [
    {
     "name": "stdout",
     "output_type": "stream",
     "text": [
      "[0. 3. 1. 3.]\n",
      "[0. 0. 2. 0.]\n",
      "[3. 1. 0. 0.]\n",
      "[0. 2. 2. 0.]\n"
     ]
    }
   ],
   "source": [
    "print(temp[0:4])\n",
    "print(temp[4:8])\n",
    "print(temp[8:12])\n",
    "print(temp[12:16])"
   ]
  }
 ],
 "metadata": {
  "kernelspec": {
   "display_name": "Python 3",
   "language": "python",
   "name": "python3"
  },
  "language_info": {
   "codemirror_mode": {
    "name": "ipython",
    "version": 3
   },
   "file_extension": ".py",
   "mimetype": "text/x-python",
   "name": "python",
   "nbconvert_exporter": "python",
   "pygments_lexer": "ipython3",
   "version": "3.9.5"
  }
 },
 "nbformat": 4,
 "nbformat_minor": 5
}
