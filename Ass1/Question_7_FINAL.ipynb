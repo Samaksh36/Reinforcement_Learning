{
 "cells": [
  {
   "cell_type": "code",
   "execution_count": 1,
   "id": "f79587b4",
   "metadata": {},
   "outputs": [],
   "source": [
    "import numpy as np\n",
    "import matplotlib.pyplot as plt\n",
    "import random"
   ]
  },
  {
   "cell_type": "markdown",
   "id": "bd14e056",
   "metadata": {},
   "source": [
    "## I advice you to run for lesser number of trials as 2000, will take about 15 minutes to run. This has been run for 2000 trials"
   ]
  },
  {
   "cell_type": "code",
   "execution_count": 2,
   "id": "08fc6abb",
   "metadata": {},
   "outputs": [],
   "source": [
    "trials=2000  #I have made it 2000 for now, incase you wanna run in your system... lower this value. Or wait for 10-15 minutes with 2000."
   ]
  },
  {
   "cell_type": "code",
   "execution_count": 3,
   "id": "8f9f8fb9",
   "metadata": {},
   "outputs": [],
   "source": [
    "#This will be the true mean for our arms and we will create the distributions for each arm using the mean coresponding to that arm.\n",
    "#Variance remains 1, for reward distribution of the arm.\n",
    "true_mean_for_ten_arms=np.random.normal(4,1,10)\n",
    "\n"
   ]
  },
  {
   "cell_type": "markdown",
   "id": "91ba45bf",
   "metadata": {},
   "source": [
    "# With BaseLine for alpha= 0.1"
   ]
  },
  {
   "cell_type": "code",
   "execution_count": 4,
   "id": "3a5eb83c",
   "metadata": {
    "scrolled": true
   },
   "outputs": [],
   "source": [
    "number_of_arms=[0]*10\n",
    "alpha=0.1\n",
    "R_time=np.zeros((10,1000)) #Sum of reward for every arm over 2000 trials at every time step t.\n",
    "N_time=np.zeros((10,1000)) #Number of times, an arm is picked at time 't' over all 2000 trials.\n",
    "\n",
    "\n",
    "for players in range(trials):\n",
    "    H=[0]*10\n",
    "    Rt_bar=0\n",
    "    P=[0]*10\n",
    "    total_reward=0\n",
    "    \n",
    "    for t in range(1000):\n",
    "        total_arms_counts=0\n",
    "        L=[]\n",
    "        \n",
    "        for k in range(10):\n",
    "            P[k]=np.exp(H[k])/(sum(np.exp(H)))\n",
    "            \n",
    "        \n",
    "        \n",
    "        At=np.random.choice(np.arange(0, 10), p=P)\n",
    "        \n",
    "        \n",
    "        \n",
    "        #Take the reward from that arm\n",
    "        Rt= np.random.normal(true_mean_for_ten_arms[At],1)\n",
    "        \n",
    "        #Increasing the global values (over all 2000 trials)\n",
    "        N_time[At][t]+=1\n",
    "        R_time[At][t]+=Rt\n",
    "        \n",
    "        #Total reward for this player\n",
    "        total_reward+=Rt\n",
    "        \n",
    "        # Rt_bar if the average of rewards uptil now for the current player (total average,, not for an arm)\n",
    "        Rt_bar= total_reward/(t+1)\n",
    "        \n",
    "        \n",
    "        # Now update Ht for each arm 'k'\n",
    "        for k in range(10):\n",
    "            if(k==At):\n",
    "                H[k]=H[k] + (alpha*(Rt-Rt_bar)*(1-P[k]))\n",
    "            \n",
    "            \n",
    "            else:\n",
    "                H[k]=H[k] - (alpha*(Rt-Rt_bar)*(P[k]))\n",
    "                \n",
    "                "
   ]
  },
  {
   "cell_type": "code",
   "execution_count": 5,
   "id": "be8f77d5",
   "metadata": {},
   "outputs": [],
   "source": [
    "# Creating the list for %of optimum actions taken\n",
    "\n",
    "optimum_arm= np.argmax(true_mean_for_ten_arms)\n",
    "percentage_picked_01=[]\n",
    "\n",
    "for t in range(1000):\n",
    "    opt_arm_picked= N_time[optimum_arm][t] #Number of times optimum arm was picked at t\n",
    "    percentage_picked_01.append(100*opt_arm_picked/trials)\n"
   ]
  },
  {
   "cell_type": "markdown",
   "id": "7df0a505",
   "metadata": {},
   "source": [
    "# With BaseLine for alpha= 0.4"
   ]
  },
  {
   "cell_type": "code",
   "execution_count": 6,
   "id": "f7798d2a",
   "metadata": {
    "scrolled": true
   },
   "outputs": [],
   "source": [
    "number_of_arms=[0]*10\n",
    "alpha=0.4\n",
    "R_time=np.zeros((10,1000)) #Sum of reward for every arm over 2000 trials at every time step t.\n",
    "N_time=np.zeros((10,1000)) #Number of times, an arm is picked at time 't' over all 2000 trials.\n",
    "\n",
    "\n",
    "for players in range(trials):\n",
    "    H=[0]*10\n",
    "    Rt_baseline=0\n",
    "    P=[0]*10\n",
    "    total_reward=0\n",
    "    \n",
    "    for t in range(1000):\n",
    "        total_arms_counts=0\n",
    "        L=[]\n",
    "        \n",
    "        for k in range(10):\n",
    "            P[k]=np.exp(H[k])/(sum(np.exp(H)))\n",
    "            \n",
    "            \n",
    "        At=np.random.choice(np.arange(0, 10), p=P)\n",
    "\n",
    "        \n",
    "        #Take the reward from that arm\n",
    "        Rt= np.random.normal(true_mean_for_ten_arms[At],1)\n",
    "        \n",
    "        #Increasing the global values (over all 2000 trials)\n",
    "        N_time[At][t]+=1\n",
    "        R_time[At][t]+=Rt\n",
    "        \n",
    "        #Total reward for this player\n",
    "        total_reward+=Rt\n",
    "        \n",
    "        # Rt_bar if the average of rewards uptil now for the current player (total average,, not for an arm)\n",
    "        Rt_bar= total_reward/(t+1)\n",
    "        \n",
    "        \n",
    "        # Now update Ht for each arm 'k'\n",
    "        for k in range(10):\n",
    "            if(k==At):\n",
    "                H[k]=H[k] + (alpha*(Rt-Rt_bar)*(1-P[k]))\n",
    "            \n",
    "            \n",
    "            else:\n",
    "                H[k]=H[k] - (alpha*(Rt-Rt_bar)*(P[k]))\n",
    "                \n",
    "        \n",
    "\n",
    "                "
   ]
  },
  {
   "cell_type": "code",
   "execution_count": 7,
   "id": "87e5f002",
   "metadata": {},
   "outputs": [],
   "source": [
    "# Creating the list for %of optimum actions taken\n",
    "\n",
    "optimum_arm= np.argmax(true_mean_for_ten_arms)\n",
    "percentage_picked_04=[]\n",
    "\n",
    "for t in range(1000):\n",
    "    opt_arm_picked= N_time[optimum_arm][t] #Number of times optimum arm was picked at t\n",
    "    percentage_picked_04.append(100*opt_arm_picked/trials)\n"
   ]
  },
  {
   "cell_type": "markdown",
   "id": "f3299c88",
   "metadata": {},
   "source": [
    "# Without Baseline for alpha=0.1"
   ]
  },
  {
   "cell_type": "code",
   "execution_count": 8,
   "id": "69693f65",
   "metadata": {
    "scrolled": true
   },
   "outputs": [],
   "source": [
    "number_of_arms=[0]*10\n",
    "alpha=0.1\n",
    "R_time=np.zeros((10,1000)) #Sum of reward for every arm over 2000 trials at every time step t.\n",
    "N_time=np.zeros((10,1000)) #Number of times, an arm is picked at time 't' over all 2000 trials.\n",
    "\n",
    "\n",
    "for players in range(trials):\n",
    "    H=[0]*10\n",
    "    Rt_bar=0\n",
    "    P=[0]*10\n",
    "    total_reward=0\n",
    "    \n",
    "    for t in range(1000):\n",
    "        total_arms_counts=0\n",
    "        L=[]\n",
    "        \n",
    "        for k in range(10):\n",
    "            P[k]=np.exp(H[k])/(sum(np.exp(H)))\n",
    "            \n",
    "            \n",
    "        At=np.random.choice(np.arange(0, 10), p=P)\n",
    "\n",
    "        \n",
    "        #Take the reward from that arm\n",
    "        Rt= np.random.normal(true_mean_for_ten_arms[At],1)\n",
    "        \n",
    "        #Increasing the global values (over all 2000 trials)\n",
    "        N_time[At][t]+=1\n",
    "        R_time[At][t]+=Rt\n",
    "        \n",
    "        #Total reward for this player\n",
    "        total_reward+=Rt\n",
    "        \n",
    "        # Rt_bar is 0 always.\n",
    "        Rt_bar= 0\n",
    "        \n",
    "        \n",
    "        # Now update Ht for each arm 'k'\n",
    "        for k in range(10):\n",
    "            if(k==At):\n",
    "                H[k]=H[k] + (alpha*(Rt-Rt_bar)*(1-P[k]))\n",
    "            \n",
    "            \n",
    "            else:\n",
    "                H[k]=H[k] - (alpha*(Rt-Rt_bar)*(P[k]))\n",
    "                \n",
    "                "
   ]
  },
  {
   "cell_type": "code",
   "execution_count": 9,
   "id": "88e951d2",
   "metadata": {},
   "outputs": [],
   "source": [
    "# Creating the list for %of optimum actions taken\n",
    "\n",
    "optimum_arm= np.argmax(true_mean_for_ten_arms)\n",
    "percentage_picked_01_no_baseline=[]\n",
    "\n",
    "for t in range(1000):\n",
    "    opt_arm_picked= N_time[optimum_arm][t] #Number of times optimum arm was picked at t\n",
    "    percentage_picked_01_no_baseline.append(100*opt_arm_picked/trials)\n"
   ]
  },
  {
   "cell_type": "markdown",
   "id": "d1faaf5f",
   "metadata": {},
   "source": [
    "# Without Baseline for alpha=0.4"
   ]
  },
  {
   "cell_type": "code",
   "execution_count": 10,
   "id": "bc0ff318",
   "metadata": {},
   "outputs": [],
   "source": [
    "number_of_arms=[0]*10\n",
    "alpha=0.4\n",
    "R_time=np.zeros((10,1000)) #Sum of reward for every arm over 2000 trials at every time step t.\n",
    "N_time=np.zeros((10,1000)) #Number of times, an arm is picked at time 't' over all 2000 trials.\n",
    "\n",
    "\n",
    "for players in range(trials):\n",
    "    H=[0]*10\n",
    "    Rt_bar=0\n",
    "    P=[0]*10\n",
    "    total_reward=0\n",
    "    \n",
    "    for t in range(1000):\n",
    "        total_arms_counts=0\n",
    "        L=[]\n",
    "        \n",
    "        for k in range(10):\n",
    "            P[k]=np.exp(H[k])/(sum(np.exp(H)))\n",
    "            \n",
    "            \n",
    "            \n",
    "        At=np.random.choice(np.arange(0, 10), p=P)\n",
    "\n",
    "        \n",
    "        #Take the reward from that arm\n",
    "        Rt= np.random.normal(true_mean_for_ten_arms[At],1)\n",
    "        \n",
    "        #Increasing the global values (over all 2000 trials)\n",
    "        N_time[At][t]+=1\n",
    "        R_time[At][t]+=Rt\n",
    "        \n",
    "        #Total reward for this player\n",
    "        total_reward+=Rt\n",
    "        \n",
    "        # Rt_bar is 0 always.\n",
    "        Rt_bar= 0\n",
    "        \n",
    "        \n",
    "        # Now update Ht for each arm 'k'\n",
    "        for k in range(10):\n",
    "            if(k==At):\n",
    "                H[k]=H[k] + (alpha*(Rt-Rt_bar)*(1-P[k]))\n",
    "            \n",
    "            \n",
    "            else:\n",
    "                H[k]=H[k] - (alpha*(Rt-Rt_bar)*(P[k]))\n",
    "                \n",
    "                "
   ]
  },
  {
   "cell_type": "code",
   "execution_count": 11,
   "id": "7cb586b8",
   "metadata": {},
   "outputs": [],
   "source": [
    "# Creating the list for %of optimum actions taken\n",
    "\n",
    "optimum_arm= np.argmax(true_mean_for_ten_arms)\n",
    "percentage_picked_04_no_baseline=[]\n",
    "\n",
    "for t in range(1000):\n",
    "    opt_arm_picked= N_time[optimum_arm][t] #Number of times optimum arm was picked at t\n",
    "    percentage_picked_04_no_baseline.append(100*opt_arm_picked/trials)\n"
   ]
  },
  {
   "cell_type": "markdown",
   "id": "b8931216",
   "metadata": {},
   "source": [
    "# Plot all the percenatges found"
   ]
  },
  {
   "cell_type": "code",
   "execution_count": 18,
   "id": "232ed247",
   "metadata": {
    "scrolled": true
   },
   "outputs": [
    {
     "data": {
      "image/png": "[encoded data removed]",
      "text/plain": [
       "<Figure size 432x288 with 1 Axes>"
      ]
     },
     "metadata": {},
     "output_type": "display_data"
    }
   ],
   "source": [
    "\n",
    "plt.style.use('dark_background')\n",
    "\n",
    "\n",
    "plt.plot(range(1000), percentage_picked_01, color='blue', label='a=0.1, with baseline')\n",
    "\n",
    "plt.plot(range(1000), percentage_picked_04, label='a=0.4, with baseline')\n",
    "\n",
    "plt.plot(range(1000), percentage_picked_01_no_baseline, color='brown', label='a=0.1, without baseline')\n",
    "\n",
    "plt.plot(range(1000), percentage_picked_04_no_baseline,color='yellow', label='a=0.4, without baseline')\n",
    "\n",
    "plt.xlabel('Time Steps')\n",
    "plt.ylabel('% Optimal Action')\n",
    "\n",
    "\n",
    "plt.legend(loc = \"upper left\",prop={'size': 7})\n",
    "plt.xticks(color='orange')\n",
    "plt.yticks(color='orange')\n",
    "plt.show()"
   ]
  }
 ],
 "metadata": {
  "kernelspec": {
   "display_name": "Python 3",
   "language": "python",
   "name": "python3"
  },
  "language_info": {
   "codemirror_mode": {
    "name": "ipython",
    "version": 3
   },
   "file_extension": ".py",
   "mimetype": "text/x-python",
   "name": "python",
   "nbconvert_exporter": "python",
   "pygments_lexer": "ipython3",
   "version": "3.9.5"
  }
 },
 "nbformat": 4,
 "nbformat_minor": 5
}
