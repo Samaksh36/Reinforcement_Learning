{
 "cells": [
  {
   "cell_type": "code",
   "execution_count": 1,
   "id": "f79587b4",
   "metadata": {},
   "outputs": [],
   "source": [
    "import numpy as np\n",
    "import matplotlib.pyplot as plt\n",
    "import random"
   ]
  },
  {
   "cell_type": "markdown",
   "id": "2e7a4be3",
   "metadata": {},
   "source": [
    "# Create the Reward Distribution"
   ]
  },
  {
   "cell_type": "code",
   "execution_count": 4,
   "id": "8f9f8fb9",
   "metadata": {},
   "outputs": [],
   "source": [
    "#This will be the true mean for our arms and we will create the distributions for each arm using the mean coresponding to that arm.\n",
    "#Variance remains 1, for reward distribution of the arm.\n",
    "true_mean_for_ten_arms=np.random.normal(4,1,10)\n",
    "\n",
    "#number of possible rewards in each distribution:-\n",
    "n=500\n",
    "#Now we generate each arms reward distribution(10000 values per arm).\n",
    "reward= np.zeros((10,n))\n",
    "\n",
    "\n",
    "for i in range(10):\n",
    "    for j in range(n):\n",
    "        reward[i][j]= true_mean_for_ten_arms[i] + np.random.randn()\n"
   ]
  },
  {
   "cell_type": "code",
   "execution_count": null,
   "id": "3a5eb83c",
   "metadata": {},
   "outputs": [],
   "source": [
    "\n",
    "\n",
    "for players in range(2000):\n",
    "    H=[0]*10\n",
    "    Rt_baseline=0\n",
    "    P=[0]*10\n",
    "    \n",
    "    for t in range(1000):\n",
    "        \n",
    "        for k in range(10):\n",
    "            P[k]=np.exp(H[k])/(sum(np.exp(H)))\n",
    "            \n",
    "        \n",
    "        \n",
    "        \n",
    "        \n",
    "        \n",
    "        "
   ]
  }
 ],
 "metadata": {
  "kernelspec": {
   "display_name": "Python 3",
   "language": "python",
   "name": "python3"
  },
  "language_info": {
   "codemirror_mode": {
    "name": "ipython",
    "version": 3
   },
   "file_extension": ".py",
   "mimetype": "text/x-python",
   "name": "python",
   "nbconvert_exporter": "python",
   "pygments_lexer": "ipython3",
   "version": "3.9.5"
  }
 },
 "nbformat": 4,
 "nbformat_minor": 5
}
